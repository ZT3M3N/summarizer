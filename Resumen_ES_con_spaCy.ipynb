{
  "cells": [
    {
      "cell_type": "markdown",
      "metadata": {
        "id": "view-in-github",
        "colab_type": "text"
      },
      "source": [
        "<a href=\"https://colab.research.google.com/github/ZT3M3N/summarizer/blob/main/Resumen_ES_con_spaCy.ipynb\" target=\"_parent\"><img src=\"https://colab.research.google.com/assets/colab-badge.svg\" alt=\"Open In Colab\"/></a>"
      ]
    },
    {
      "cell_type": "markdown",
      "source": [
        "## ***OBTENCIÓN DEL TEXTO PARA GENERARLE EL RESUMEN MEDIANTE WEB SCRAPING EN PYTHON:***\n",
        "\n"
      ],
      "metadata": {
        "id": "vUNvLMvzgWBb"
      }
    },
    {
      "cell_type": "code",
      "source": [
        "import requests #  Módulo para realizar solicitudes HTTP en la web\n",
        "from bs4 import BeautifulSoup # Biblioteca que se utiliza para analizar y extraer datos de documentos HTML\n",
        "\n",
        "# PÁGINA DE ENCICLOPEDIA: https://es.wikipedia.org/wiki/Inteligencia_artificial\n",
        "# PÁGINA DE NOTICIAS: https://www.diariodepalenque.com.mx/2022/05/dolar-se-vende-en-19-56-pesos-su-mejor-nivel-en-16-meses/\n",
        "# PÁGINA DE BLOG: https://www.codificandobits.com/blog/redes-transformer/\n",
        "# PÁGINA QUE NO PERMITE HACER WEB SCRAPING: https://paginaspersonales.deusto.es/airibar/ed_digital/html/html_1.html\n",
        "\n",
        "#Aplicando web scraping para obtener el texto a resumir\n",
        "url = \"https://zt3m3n.github.io/noticia4.html\"\n",
        "page = requests.get(url)\n",
        "scraping = BeautifulSoup(page.content, \"html.parser\")\n",
        "\n",
        "# Extraccion de solo las etiquetas \"p\"\n",
        "texto = \" \".join([p.text for p in scraping.find_all(\"p\")])\n",
        "\n",
        "print(texto)"
      ],
      "metadata": {
        "id": "Ph3vfX-3TTBr",
        "colab": {
          "base_uri": "https://localhost:8080/"
        },
        "outputId": "ed59f613-a497-4219-9c94-de59d331e516"
      },
      "execution_count": null,
      "outputs": [
        {
          "output_type": "stream",
          "name": "stdout",
          "text": [
            "El morphing de suplantación de identidad es una técnica que consiste en manipular la fotografía de un documento de identidad para que se parezca a dos personas diferentes. De esta forma, se puede engañar a los sistemas biométricos faciales que se usan en los controles de fronteras, aeropuertos, bancos o páginas web.\r\n",
            "\r\n",
            "        El morphing se basa en la interpolación de dos imágenes, una de la víctima y otra del impostor, para crear una imagen intermedia que contenga rasgos de ambas. Para lograr este efecto, se utilizan algoritmos de inteligencia artificial que distorsionan los píxeles y el color de las imágenes originales.\r\n",
            "        \r\n",
            "        El resultado es una imagen falsa que puede pasar por válida ante los sistemas de reconocimiento facial, ya que se parece lo suficiente a las dos personas implicadas. Así, el impostor puede usar el documento falsificado para viajar, acceder a servicios o cometer delitos suplantando la identidad de la víctima.\r\n",
            "        \r\n",
            "        El morphing de suplantación de identidad es una amenaza para la seguridad nacional e internacional, ya que puede facilitar el tráfico de personas, el terrorismo, el fraude o el espionaje. Además, puede vulnerar los derechos y la privacidad de las víctimas, que pueden sufrir consecuencias legales o económicas por acciones que no han cometido.\r\n",
            "        \r\n",
            "        Para prevenir y detectar el morphing de suplantación de identidad, se necesitan medidas tanto técnicas como legales. Por un lado, se debe mejorar la calidad y la seguridad de los documentos de identidad, incorporando elementos que dificulten la manipulación o que permitan verificar la autenticidad de las imágenes. Por otro lado, se debe concienciar a la ciudadanía sobre los riesgos de esta técnica y denunciar cualquier caso de robo o pérdida de documentos.\r\n",
            "        \r\n",
            "        El morphing de suplantación de identidad es una técnica que aprovecha el avance de la inteligencia artificial para crear imágenes falsas que engañan a los sistemas biométricos faciales. Se trata de una amenaza que puede poner en peligro la seguridad y la identidad de las personas, y que requiere una respuesta coordinada y eficaz por parte de las autoridades y la sociedad.\n"
          ]
        }
      ]
    },
    {
      "cell_type": "code",
      "source": [
        "import re # Módulo para limpiar texto\n",
        "#Limpiar texto\n",
        "texto_limpio = re.sub(r'\\[[0-9]+\\]|\\u200b|[A-Z][a-z]+\\s+(\\w+\\s)*\\w+,\\s\\d{4},\\spp\\.\\s\\d+–\\d+', \" \", texto)\n",
        "texto_limpio = texto_limpio.replace(\"\\n\", \"\").replace(\":\", \".\").replace(\"  \", \"\")"
      ],
      "metadata": {
        "id": "n-s6KBmxdD-k"
      },
      "execution_count": null,
      "outputs": []
    },
    {
      "cell_type": "code",
      "source": [
        "# Extraer el título de la página (etiqueta h1)\n",
        "titulo = scraping.find('h2').get_text()\n",
        "\n",
        "# Mostrar el título y el texto a resumir\n",
        "print(titulo + \":\\n\")\n",
        "\n",
        "print(texto_limpio)\n",
        "\n",
        "#Adaptar resultados a pantalla\n",
        "from IPython.core.display import display, HTML\n",
        "display(HTML(\"<style>pre { white-space: pre-wrap; }</style>\"))"
      ],
      "metadata": {
        "colab": {
          "base_uri": "https://localhost:8080/",
          "height": 104
        },
        "id": "1LTQft5bdoWO",
        "outputId": "e10ba3fb-de8a-4f48-e78d-dd99d4131c4f"
      },
      "execution_count": null,
      "outputs": [
        {
          "output_type": "stream",
          "name": "stdout",
          "text": [
            "Morphing de suplantación de identidad: una amenaza para la seguridad.:\n",
            "\n",
            "El morphing de suplantación de identidad es una técnica que consiste en manipular la fotografía de un documento de identidad para que se parezca a dos personas diferentes. De esta forma, se puede engañar a los sistemas biométricos faciales que se usan en los controles de fronteras, aeropuertos, bancos o páginas web.\r\rEl morphing se basa en la interpolación de dos imágenes, una de la víctima y otra del impostor, para crear una imagen intermedia que contenga rasgos de ambas. Para lograr este efecto, se utilizan algoritmos de inteligencia artificial que distorsionan los píxeles y el color de las imágenes originales.\r\rEl resultado es una imagen falsa que puede pasar por válida ante los sistemas de reconocimiento facial, ya que se parece lo suficiente a las dos personas implicadas. Así, el impostor puede usar el documento falsificado para viajar, acceder a servicios o cometer delitos suplantando la identidad de la víctima.\r\rEl morphing de suplantación de identidad es una amenaza para la seguridad nacional e internacional, ya que puede facilitar el tráfico de personas, el terrorismo, el fraude o el espionaje. Además, puede vulnerar los derechos y la privacidad de las víctimas, que pueden sufrir consecuencias legales o económicas por acciones que no han cometido.\r\rPara prevenir y detectar el morphing de suplantación de identidad, se necesitan medidas tanto técnicas como legales. Por un lado, se debe mejorar la calidad y la seguridad de los documentos de identidad, incorporando elementos que dificulten la manipulación o que permitan verificar la autenticidad de las imágenes. Por otro lado, se debe concienciar a la ciudadanía sobre los riesgos de esta técnica y denunciar cualquier caso de robo o pérdida de documentos.\r\rEl morphing de suplantación de identidad es una técnica que aprovecha el avance de la inteligencia artificial para crear imágenes falsas que engañan a los sistemas biométricos faciales. Se trata de una amenaza que puede poner en peligro la seguridad y la identidad de las personas, y que requiere una respuesta coordinada y eficaz por parte de las autoridades y la sociedad.\n"
          ]
        },
        {
          "output_type": "display_data",
          "data": {
            "text/plain": [
              "<IPython.core.display.HTML object>"
            ],
            "text/html": [
              "<style>pre { white-space: pre-wrap; }</style>"
            ]
          },
          "metadata": {}
        }
      ]
    },
    {
      "cell_type": "code",
      "source": [
        "# Número de palabras en texto original\n",
        "palabras = texto_limpio.split()\n",
        "num_palabras = len(palabras)\n",
        "print(\"El texto contiene\", num_palabras, \"palabras.\")"
      ],
      "metadata": {
        "colab": {
          "base_uri": "https://localhost:8080/"
        },
        "id": "sR_0Ox7ZeI8k",
        "outputId": "628a8c15-a5b8-4c81-be14-1fa514000067"
      },
      "execution_count": null,
      "outputs": [
        {
          "output_type": "stream",
          "name": "stdout",
          "text": [
            "El texto contiene 340 palabras.\n"
          ]
        }
      ]
    },
    {
      "cell_type": "code",
      "source": [
        "!python -m spacy download es_core_news_lg"
      ],
      "metadata": {
        "colab": {
          "base_uri": "https://localhost:8080/"
        },
        "id": "_GQfGP1jK8q4",
        "outputId": "c08f333d-24b2-43a8-e360-43eaa28a527b"
      },
      "execution_count": null,
      "outputs": [
        {
          "output_type": "stream",
          "name": "stdout",
          "text": [
            "2023-05-31 18:01:43.515117: I tensorflow/core/platform/cpu_feature_guard.cc:182] This TensorFlow binary is optimized to use available CPU instructions in performance-critical operations.\n",
            "To enable the following instructions: AVX2 FMA, in other operations, rebuild TensorFlow with the appropriate compiler flags.\n",
            "2023-05-31 18:01:44.760146: W tensorflow/compiler/tf2tensorrt/utils/py_utils.cc:38] TF-TRT Warning: Could not find TensorRT\n",
            "Looking in indexes: https://pypi.org/simple, https://us-python.pkg.dev/colab-wheels/public/simple/\n",
            "Collecting es-core-news-lg==3.5.0\n",
            "  Downloading https://github.com/explosion/spacy-models/releases/download/es_core_news_lg-3.5.0/es_core_news_lg-3.5.0-py3-none-any.whl (568.0 MB)\n",
            "\u001b[2K     \u001b[90m━━━━━━━━━━━━━━━━━━━━━━━━━━━━━━━━━━━━━━━\u001b[0m \u001b[32m568.0/568.0 MB\u001b[0m \u001b[31m2.1 MB/s\u001b[0m eta \u001b[36m0:00:00\u001b[0m\n",
            "\u001b[?25hRequirement already satisfied: spacy<3.6.0,>=3.5.0 in /usr/local/lib/python3.10/dist-packages (from es-core-news-lg==3.5.0) (3.5.2)\n",
            "Requirement already satisfied: spacy-legacy<3.1.0,>=3.0.11 in /usr/local/lib/python3.10/dist-packages (from spacy<3.6.0,>=3.5.0->es-core-news-lg==3.5.0) (3.0.12)\n",
            "Requirement already satisfied: spacy-loggers<2.0.0,>=1.0.0 in /usr/local/lib/python3.10/dist-packages (from spacy<3.6.0,>=3.5.0->es-core-news-lg==3.5.0) (1.0.4)\n",
            "Requirement already satisfied: murmurhash<1.1.0,>=0.28.0 in /usr/local/lib/python3.10/dist-packages (from spacy<3.6.0,>=3.5.0->es-core-news-lg==3.5.0) (1.0.9)\n",
            "Requirement already satisfied: cymem<2.1.0,>=2.0.2 in /usr/local/lib/python3.10/dist-packages (from spacy<3.6.0,>=3.5.0->es-core-news-lg==3.5.0) (2.0.7)\n",
            "Requirement already satisfied: preshed<3.1.0,>=3.0.2 in /usr/local/lib/python3.10/dist-packages (from spacy<3.6.0,>=3.5.0->es-core-news-lg==3.5.0) (3.0.8)\n",
            "Requirement already satisfied: thinc<8.2.0,>=8.1.8 in /usr/local/lib/python3.10/dist-packages (from spacy<3.6.0,>=3.5.0->es-core-news-lg==3.5.0) (8.1.9)\n",
            "Requirement already satisfied: wasabi<1.2.0,>=0.9.1 in /usr/local/lib/python3.10/dist-packages (from spacy<3.6.0,>=3.5.0->es-core-news-lg==3.5.0) (1.1.1)\n",
            "Requirement already satisfied: srsly<3.0.0,>=2.4.3 in /usr/local/lib/python3.10/dist-packages (from spacy<3.6.0,>=3.5.0->es-core-news-lg==3.5.0) (2.4.6)\n",
            "Requirement already satisfied: catalogue<2.1.0,>=2.0.6 in /usr/local/lib/python3.10/dist-packages (from spacy<3.6.0,>=3.5.0->es-core-news-lg==3.5.0) (2.0.8)\n",
            "Requirement already satisfied: typer<0.8.0,>=0.3.0 in /usr/local/lib/python3.10/dist-packages (from spacy<3.6.0,>=3.5.0->es-core-news-lg==3.5.0) (0.7.0)\n",
            "Requirement already satisfied: pathy>=0.10.0 in /usr/local/lib/python3.10/dist-packages (from spacy<3.6.0,>=3.5.0->es-core-news-lg==3.5.0) (0.10.1)\n",
            "Requirement already satisfied: smart-open<7.0.0,>=5.2.1 in /usr/local/lib/python3.10/dist-packages (from spacy<3.6.0,>=3.5.0->es-core-news-lg==3.5.0) (6.3.0)\n",
            "Requirement already satisfied: tqdm<5.0.0,>=4.38.0 in /usr/local/lib/python3.10/dist-packages (from spacy<3.6.0,>=3.5.0->es-core-news-lg==3.5.0) (4.65.0)\n",
            "Requirement already satisfied: numpy>=1.15.0 in /usr/local/lib/python3.10/dist-packages (from spacy<3.6.0,>=3.5.0->es-core-news-lg==3.5.0) (1.22.4)\n",
            "Requirement already satisfied: requests<3.0.0,>=2.13.0 in /usr/local/lib/python3.10/dist-packages (from spacy<3.6.0,>=3.5.0->es-core-news-lg==3.5.0) (2.27.1)\n",
            "Requirement already satisfied: pydantic!=1.8,!=1.8.1,<1.11.0,>=1.7.4 in /usr/local/lib/python3.10/dist-packages (from spacy<3.6.0,>=3.5.0->es-core-news-lg==3.5.0) (1.10.7)\n",
            "Requirement already satisfied: jinja2 in /usr/local/lib/python3.10/dist-packages (from spacy<3.6.0,>=3.5.0->es-core-news-lg==3.5.0) (3.1.2)\n",
            "Requirement already satisfied: setuptools in /usr/local/lib/python3.10/dist-packages (from spacy<3.6.0,>=3.5.0->es-core-news-lg==3.5.0) (67.7.2)\n",
            "Requirement already satisfied: packaging>=20.0 in /usr/local/lib/python3.10/dist-packages (from spacy<3.6.0,>=3.5.0->es-core-news-lg==3.5.0) (23.1)\n",
            "Requirement already satisfied: langcodes<4.0.0,>=3.2.0 in /usr/local/lib/python3.10/dist-packages (from spacy<3.6.0,>=3.5.0->es-core-news-lg==3.5.0) (3.3.0)\n",
            "Requirement already satisfied: typing-extensions>=4.2.0 in /usr/local/lib/python3.10/dist-packages (from pydantic!=1.8,!=1.8.1,<1.11.0,>=1.7.4->spacy<3.6.0,>=3.5.0->es-core-news-lg==3.5.0) (4.5.0)\n",
            "Requirement already satisfied: urllib3<1.27,>=1.21.1 in /usr/local/lib/python3.10/dist-packages (from requests<3.0.0,>=2.13.0->spacy<3.6.0,>=3.5.0->es-core-news-lg==3.5.0) (1.26.15)\n",
            "Requirement already satisfied: certifi>=2017.4.17 in /usr/local/lib/python3.10/dist-packages (from requests<3.0.0,>=2.13.0->spacy<3.6.0,>=3.5.0->es-core-news-lg==3.5.0) (2022.12.7)\n",
            "Requirement already satisfied: charset-normalizer~=2.0.0 in /usr/local/lib/python3.10/dist-packages (from requests<3.0.0,>=2.13.0->spacy<3.6.0,>=3.5.0->es-core-news-lg==3.5.0) (2.0.12)\n",
            "Requirement already satisfied: idna<4,>=2.5 in /usr/local/lib/python3.10/dist-packages (from requests<3.0.0,>=2.13.0->spacy<3.6.0,>=3.5.0->es-core-news-lg==3.5.0) (3.4)\n",
            "Requirement already satisfied: blis<0.8.0,>=0.7.8 in /usr/local/lib/python3.10/dist-packages (from thinc<8.2.0,>=8.1.8->spacy<3.6.0,>=3.5.0->es-core-news-lg==3.5.0) (0.7.9)\n",
            "Requirement already satisfied: confection<1.0.0,>=0.0.1 in /usr/local/lib/python3.10/dist-packages (from thinc<8.2.0,>=8.1.8->spacy<3.6.0,>=3.5.0->es-core-news-lg==3.5.0) (0.0.4)\n",
            "Requirement already satisfied: click<9.0.0,>=7.1.1 in /usr/local/lib/python3.10/dist-packages (from typer<0.8.0,>=0.3.0->spacy<3.6.0,>=3.5.0->es-core-news-lg==3.5.0) (8.1.3)\n",
            "Requirement already satisfied: MarkupSafe>=2.0 in /usr/local/lib/python3.10/dist-packages (from jinja2->spacy<3.6.0,>=3.5.0->es-core-news-lg==3.5.0) (2.1.2)\n",
            "Installing collected packages: es-core-news-lg\n",
            "Successfully installed es-core-news-lg-3.5.0\n",
            "\u001b[38;5;2m✔ Download and installation successful\u001b[0m\n",
            "You can now load the package via spacy.load('es_core_news_lg')\n"
          ]
        }
      ]
    },
    {
      "cell_type": "code",
      "source": [
        "import spacy # Herramienta de PLN\n",
        "nlp = spacy.load(\"es_core_news_lg\")"
      ],
      "metadata": {
        "id": "Kwc65_POTpIb"
      },
      "execution_count": null,
      "outputs": []
    },
    {
      "cell_type": "code",
      "source": [
        "doc = nlp(texto_limpio)"
      ],
      "metadata": {
        "id": "iZuv5ztPkmVM"
      },
      "execution_count": null,
      "outputs": []
    },
    {
      "cell_type": "code",
      "source": [
        "# Dividir el texto en oraciones\n",
        "sentences = [sent.text for sent in doc.sents]\n",
        "#print(sentences)"
      ],
      "metadata": {
        "id": "VwHXmb4OUZJT"
      },
      "execution_count": null,
      "outputs": []
    },
    {
      "cell_type": "code",
      "source": [
        "# Número de oraciones en el texto original\n",
        "num_oraciones = len(sentences)\n",
        "print(\"El texto contiene\", num_oraciones, \"oraciones.\")\n",
        "\n",
        "for i, oracion in enumerate(doc.sents):\n",
        "    print(f\"{i+1}. {oracion.text}\")"
      ],
      "metadata": {
        "colab": {
          "base_uri": "https://localhost:8080/"
        },
        "id": "Yo2oyS--UbsT",
        "outputId": "b8a8136a-69e9-4433-ee00-88b580c3abfc"
      },
      "execution_count": null,
      "outputs": [
        {
          "output_type": "stream",
          "name": "stdout",
          "text": [
            "El texto contiene 13 oraciones.\n",
            "1. El morphing de suplantación de identidad es una técnica que consiste en manipular la fotografía de un documento de identidad para que se parezca a dos personas diferentes.\n",
            "2. De esta forma, se puede engañar a los sistemas biométricos faciales que se usan en los controles de fronteras, aeropuertos, bancos o páginas web.\r\n",
            "\r\n",
            "3. El morphing se basa en la interpolación de dos imágenes, una de la víctima y otra del impostor, para crear una imagen intermedia que contenga rasgos de ambas.\n",
            "4. Para lograr este efecto, se utilizan algoritmos de inteligencia artificial que distorsionan los píxeles y el color de las imágenes originales.\r\r\n",
            "5. El resultado es una imagen falsa que puede pasar por válida ante los sistemas de reconocimiento facial, ya que se parece lo suficiente a las dos personas implicadas.\n",
            "6. Así, el impostor puede usar el documento falsificado para viajar, acceder a servicios o cometer delitos suplantando la identidad de la víctima.\r\r\n",
            "7. El morphing de suplantación de identidad es una amenaza para la seguridad nacional e internacional, ya que puede facilitar el tráfico de personas, el terrorismo, el fraude o el espionaje.\n",
            "8. Además, puede vulnerar los derechos y la privacidad de las víctimas, que pueden sufrir consecuencias legales o económicas por acciones que no han cometido.\r\r\n",
            "9. Para prevenir y detectar el morphing de suplantación de identidad, se necesitan medidas tanto técnicas como legales.\n",
            "10. Por un lado, se debe mejorar la calidad y la seguridad de los documentos de identidad, incorporando elementos que dificulten la manipulación o que permitan verificar la autenticidad de las imágenes.\n",
            "11. Por otro lado, se debe concienciar a la ciudadanía sobre los riesgos de esta técnica y denunciar cualquier caso de robo o pérdida de documentos.\r\r\n",
            "12. El morphing de suplantación de identidad es una técnica que aprovecha el avance de la inteligencia artificial para crear imágenes falsas que engañan a los sistemas biométricos faciales.\n",
            "13. Se trata de una amenaza que puede poner en peligro la seguridad y la identidad de las personas, y que requiere una respuesta coordinada y eficaz por parte de las autoridades y la sociedad.\n"
          ]
        }
      ]
    },
    {
      "cell_type": "code",
      "source": [
        "#for ent in doc.ents:\n",
        "#    print(ent.label_, ent.text)"
      ],
      "metadata": {
        "id": "0lTrzHyq28T3"
      },
      "execution_count": null,
      "outputs": []
    },
    {
      "cell_type": "code",
      "source": [
        "#for token in doc:\n",
        "#    print(token.text, token.lemma_)"
      ],
      "metadata": {
        "id": "mDw2GDPZ3kpo"
      },
      "execution_count": null,
      "outputs": []
    },
    {
      "cell_type": "code",
      "source": [
        "#for token in doc[:5000]:\n",
        "#    print(token.text, token.lemma_, token.pos_, token.is_stop)"
      ],
      "metadata": {
        "id": "CfHT6P6D4DIY"
      },
      "execution_count": null,
      "outputs": []
    },
    {
      "cell_type": "markdown",
      "source": [
        "# ***GENERACIÓN DEL RESUMEN A PARTIR DEL TEXTO ORIGINAL CON AYUDA DE LAS HERRAMIENTAS SPACY Y SCIKIT-LEARN, Y CON LA TÉCNICA DE TF-IDF:***"
      ],
      "metadata": {
        "id": "FNkR7IWvg3nq"
      }
    },
    {
      "cell_type": "code",
      "source": [
        "#Calcular la similitud entre un conjunto de oraciones y obtener una puntuación para cada una de ellas\n",
        "\n",
        "from sklearn.feature_extraction.text import TfidfVectorizer #Se utiliza para representar cada oración como un conjunto de números que representan la frecuencia con que aparecen las palabras en esa oración.\n",
        "from sklearn.metrics.pairwise import cosine_similarity #Se utiliza para calcular la similitud entre las oraciones\n",
        "\n",
        "vectorizer = TfidfVectorizer() #Crea un objeto que transforma los textos en una matriz numérica que representa la frecuencia con que aparecen las palabras.\n",
        "matrix = vectorizer.fit_transform(sentences) #Se utiliza para transformar un conjunto de oraciones en una matriz numérica que representa la importancia de cada palabra en cada oración.\n",
        "similarity_matrix = cosine_similarity(matrix) #Calcula la similitud entre cada par de oraciones utilizando la medida de similitud del coseno. \n",
        "\n",
        "scores = similarity_matrix.sum(axis=1)\n",
        "\n",
        "print(similarity_matrix)"
      ],
      "metadata": {
        "id": "dmNCA0T7XSkk",
        "colab": {
          "base_uri": "https://localhost:8080/"
        },
        "outputId": "b427e3e1-6762-4461-978f-dc39657f1d71"
      },
      "execution_count": null,
      "outputs": [
        {
          "output_type": "stream",
          "name": "stdout",
          "text": [
            "[[1.   0.14 0.31 0.14 0.22 0.2  0.36 0.09 0.25 0.26 0.16 0.4  0.29]\n",
            " [0.14 1.   0.11 0.11 0.15 0.04 0.07 0.09 0.07 0.12 0.16 0.25 0.13]\n",
            " [0.31 0.11 1.   0.14 0.18 0.22 0.23 0.07 0.14 0.2  0.1  0.31 0.25]\n",
            " [0.14 0.11 0.14 1.   0.11 0.07 0.15 0.09 0.1  0.15 0.08 0.29 0.13]\n",
            " [0.22 0.15 0.18 0.11 1.   0.06 0.23 0.13 0.05 0.13 0.07 0.2  0.21]\n",
            " [0.2  0.04 0.22 0.07 0.06 1.   0.24 0.06 0.11 0.14 0.05 0.16 0.13]\n",
            " [0.36 0.07 0.23 0.15 0.23 0.24 1.   0.07 0.24 0.16 0.07 0.37 0.26]\n",
            " [0.09 0.09 0.07 0.09 0.13 0.06 0.07 1.   0.08 0.17 0.08 0.1  0.18]\n",
            " [0.25 0.07 0.14 0.1  0.05 0.11 0.24 0.08 1.   0.08 0.07 0.21 0.08]\n",
            " [0.26 0.12 0.2  0.15 0.13 0.14 0.16 0.17 0.08 1.   0.28 0.21 0.33]\n",
            " [0.16 0.16 0.1  0.08 0.07 0.05 0.07 0.08 0.07 0.28 1.   0.14 0.13]\n",
            " [0.4  0.25 0.31 0.29 0.2  0.16 0.37 0.1  0.21 0.21 0.14 1.   0.19]\n",
            " [0.29 0.13 0.25 0.13 0.21 0.13 0.26 0.18 0.08 0.33 0.13 0.19 1.  ]]\n"
          ]
        }
      ]
    },
    {
      "cell_type": "code",
      "source": [
        "import pandas as pd\n",
        "import numpy as np\n",
        "\n",
        "# Supongamos que tu matriz de similitud es la siguiente\n",
        "similarity_matrix = similarity_matrix\n",
        "\n",
        "# Establecemos las opciones de formato para numpy\n",
        "np.set_printoptions(precision=2, suppress=True)\n",
        "\n",
        "# Creamos un DataFrame a partir de la matriz de similitud\n",
        "df = pd.DataFrame(similarity_matrix)\n",
        "\n",
        "# Establecemos el ancho máximo de la columna para 10\n",
        "pd.set_option('display.max_columns', 10)\n",
        "\n",
        "# Imprimimos el DataFrame en forma de tabla\n",
        "print(df)"
      ],
      "metadata": {
        "colab": {
          "base_uri": "https://localhost:8080/"
        },
        "id": "FjlcszG_8g0p",
        "outputId": "680670bc-d771-4f32-c9eb-b60800b95818"
      },
      "execution_count": null,
      "outputs": [
        {
          "output_type": "stream",
          "name": "stdout",
          "text": [
            "          0         1         2         3         4   ...        8         9   \\\n",
            "0   1.000000  0.143791  0.313706  0.143955  0.215023  ...  0.251131  0.258948   \n",
            "1   0.143791  1.000000  0.109218  0.114566  0.151149  ...  0.070489  0.116855   \n",
            "2   0.313706  0.109218  1.000000  0.139245  0.181300  ...  0.138351  0.203682   \n",
            "3   0.143955  0.114566  0.139245  1.000000  0.112663  ...  0.103664  0.150275   \n",
            "4   0.215023  0.151149  0.181300  0.112663  1.000000  ...  0.050737  0.125255   \n",
            "5   0.203258  0.038413  0.221344  0.073324  0.058860  ...  0.106855  0.137001   \n",
            "6   0.359604  0.069612  0.228351  0.147331  0.229382  ...  0.236531  0.157378   \n",
            "7   0.088736  0.094155  0.067112  0.086831  0.131710  ...  0.076303  0.165342   \n",
            "8   0.251131  0.070489  0.138351  0.103664  0.050737  ...  1.000000  0.083720   \n",
            "9   0.258948  0.116855  0.203682  0.150275  0.125255  ...  0.083720  1.000000   \n",
            "10  0.155721  0.155902  0.101372  0.082469  0.073728  ...  0.071366  0.283328   \n",
            "11  0.396069  0.245369  0.305086  0.291968  0.198635  ...  0.212888  0.211642   \n",
            "12  0.294943  0.129839  0.251247  0.126493  0.208310  ...  0.082975  0.326583   \n",
            "\n",
            "          10        11        12  \n",
            "0   0.155721  0.396069  0.294943  \n",
            "1   0.155902  0.245369  0.129839  \n",
            "2   0.101372  0.305086  0.251247  \n",
            "3   0.082469  0.291968  0.126493  \n",
            "4   0.073728  0.198635  0.208310  \n",
            "5   0.051078  0.158084  0.130924  \n",
            "6   0.071039  0.366509  0.257427  \n",
            "7   0.076924  0.099703  0.177080  \n",
            "8   0.071366  0.212888  0.082975  \n",
            "9   0.283328  0.211642  0.326583  \n",
            "10  1.000000  0.138425  0.127310  \n",
            "11  0.138425  1.000000  0.192300  \n",
            "12  0.127310  0.192300  1.000000  \n",
            "\n",
            "[13 rows x 13 columns]\n"
          ]
        }
      ]
    },
    {
      "cell_type": "code",
      "source": [
        "import pandas as pd\n",
        "\n",
        "# Supongamos que \"matrix\" es la matriz numérica generada en el código anterior\n",
        "df1 = pd.DataFrame(matrix.toarray(), columns=vectorizer.vocabulary_.keys())\n",
        "\n",
        "# Mostrar la tabla\n",
        "display(df1)"
      ],
      "metadata": {
        "colab": {
          "base_uri": "https://localhost:8080/",
          "height": 486
        },
        "id": "2NWNjI06sSKs",
        "outputId": "235ce156-0b45-456f-c539-1edb9449bb31"
      },
      "execution_count": null,
      "outputs": [
        {
          "output_type": "display_data",
          "data": {
            "text/plain": [
              "          el  morphing        de  suplantación  identidad  ...  coordinada  \\\n",
              "0   0.000000  0.000000  0.000000      0.000000   0.000000  ...    0.000000   \n",
              "1   0.000000  0.000000  0.000000      0.256464   0.000000  ...    0.000000   \n",
              "2   0.000000  0.000000  0.000000      0.000000   0.000000  ...    0.000000   \n",
              "3   0.000000  0.000000  0.000000      0.000000   0.277355  ...    0.000000   \n",
              "4   0.000000  0.000000  0.000000      0.000000   0.000000  ...    0.238337   \n",
              "5   0.267084  0.000000  0.000000      0.000000   0.000000  ...    0.000000   \n",
              "6   0.000000  0.000000  0.000000      0.000000   0.000000  ...    0.000000   \n",
              "7   0.000000  0.248669  0.248669      0.000000   0.000000  ...    0.000000   \n",
              "8   0.000000  0.000000  0.000000      0.000000   0.000000  ...    0.000000   \n",
              "9   0.000000  0.000000  0.000000      0.000000   0.000000  ...    0.000000   \n",
              "10  0.000000  0.000000  0.000000      0.000000   0.000000  ...    0.000000   \n",
              "11  0.000000  0.000000  0.000000      0.000000   0.000000  ...    0.000000   \n",
              "12  0.000000  0.000000  0.000000      0.000000   0.000000  ...    0.000000   \n",
              "\n",
              "      eficaz     parte  autoridades  sociedad  \n",
              "0   0.000000  0.000000     0.000000  0.000000  \n",
              "1   0.000000  0.000000     0.256464  0.000000  \n",
              "2   0.209235  0.000000     0.000000  0.000000  \n",
              "3   0.000000  0.000000     0.000000  0.000000  \n",
              "4   0.000000  0.000000     0.000000  0.205533  \n",
              "5   0.230323  0.000000     0.000000  0.000000  \n",
              "6   0.000000  0.000000     0.000000  0.195189  \n",
              "7   0.000000  0.248669     0.000000  0.000000  \n",
              "8   0.000000  0.000000     0.000000  0.000000  \n",
              "9   0.000000  0.000000     0.000000  0.000000  \n",
              "10  0.000000  0.000000     0.000000  0.000000  \n",
              "11  0.000000  0.000000     0.000000  0.000000  \n",
              "12  0.000000  0.000000     0.000000  0.000000  \n",
              "\n",
              "[13 rows x 150 columns]"
            ],
            "text/html": [
              "\n",
              "  <div id=\"df-30deb6d4-2c6b-45e6-a34a-902f2d35ada7\">\n",
              "    <div class=\"colab-df-container\">\n",
              "      <div>\n",
              "<style scoped>\n",
              "    .dataframe tbody tr th:only-of-type {\n",
              "        vertical-align: middle;\n",
              "    }\n",
              "\n",
              "    .dataframe tbody tr th {\n",
              "        vertical-align: top;\n",
              "    }\n",
              "\n",
              "    .dataframe thead th {\n",
              "        text-align: right;\n",
              "    }\n",
              "</style>\n",
              "<table border=\"1\" class=\"dataframe\">\n",
              "  <thead>\n",
              "    <tr style=\"text-align: right;\">\n",
              "      <th></th>\n",
              "      <th>el</th>\n",
              "      <th>morphing</th>\n",
              "      <th>de</th>\n",
              "      <th>suplantación</th>\n",
              "      <th>identidad</th>\n",
              "      <th>...</th>\n",
              "      <th>coordinada</th>\n",
              "      <th>eficaz</th>\n",
              "      <th>parte</th>\n",
              "      <th>autoridades</th>\n",
              "      <th>sociedad</th>\n",
              "    </tr>\n",
              "  </thead>\n",
              "  <tbody>\n",
              "    <tr>\n",
              "      <th>0</th>\n",
              "      <td>0.000000</td>\n",
              "      <td>0.000000</td>\n",
              "      <td>0.000000</td>\n",
              "      <td>0.000000</td>\n",
              "      <td>0.000000</td>\n",
              "      <td>...</td>\n",
              "      <td>0.000000</td>\n",
              "      <td>0.000000</td>\n",
              "      <td>0.000000</td>\n",
              "      <td>0.000000</td>\n",
              "      <td>0.000000</td>\n",
              "    </tr>\n",
              "    <tr>\n",
              "      <th>1</th>\n",
              "      <td>0.000000</td>\n",
              "      <td>0.000000</td>\n",
              "      <td>0.000000</td>\n",
              "      <td>0.256464</td>\n",
              "      <td>0.000000</td>\n",
              "      <td>...</td>\n",
              "      <td>0.000000</td>\n",
              "      <td>0.000000</td>\n",
              "      <td>0.000000</td>\n",
              "      <td>0.256464</td>\n",
              "      <td>0.000000</td>\n",
              "    </tr>\n",
              "    <tr>\n",
              "      <th>2</th>\n",
              "      <td>0.000000</td>\n",
              "      <td>0.000000</td>\n",
              "      <td>0.000000</td>\n",
              "      <td>0.000000</td>\n",
              "      <td>0.000000</td>\n",
              "      <td>...</td>\n",
              "      <td>0.000000</td>\n",
              "      <td>0.209235</td>\n",
              "      <td>0.000000</td>\n",
              "      <td>0.000000</td>\n",
              "      <td>0.000000</td>\n",
              "    </tr>\n",
              "    <tr>\n",
              "      <th>3</th>\n",
              "      <td>0.000000</td>\n",
              "      <td>0.000000</td>\n",
              "      <td>0.000000</td>\n",
              "      <td>0.000000</td>\n",
              "      <td>0.277355</td>\n",
              "      <td>...</td>\n",
              "      <td>0.000000</td>\n",
              "      <td>0.000000</td>\n",
              "      <td>0.000000</td>\n",
              "      <td>0.000000</td>\n",
              "      <td>0.000000</td>\n",
              "    </tr>\n",
              "    <tr>\n",
              "      <th>4</th>\n",
              "      <td>0.000000</td>\n",
              "      <td>0.000000</td>\n",
              "      <td>0.000000</td>\n",
              "      <td>0.000000</td>\n",
              "      <td>0.000000</td>\n",
              "      <td>...</td>\n",
              "      <td>0.238337</td>\n",
              "      <td>0.000000</td>\n",
              "      <td>0.000000</td>\n",
              "      <td>0.000000</td>\n",
              "      <td>0.205533</td>\n",
              "    </tr>\n",
              "    <tr>\n",
              "      <th>5</th>\n",
              "      <td>0.267084</td>\n",
              "      <td>0.000000</td>\n",
              "      <td>0.000000</td>\n",
              "      <td>0.000000</td>\n",
              "      <td>0.000000</td>\n",
              "      <td>...</td>\n",
              "      <td>0.000000</td>\n",
              "      <td>0.230323</td>\n",
              "      <td>0.000000</td>\n",
              "      <td>0.000000</td>\n",
              "      <td>0.000000</td>\n",
              "    </tr>\n",
              "    <tr>\n",
              "      <th>6</th>\n",
              "      <td>0.000000</td>\n",
              "      <td>0.000000</td>\n",
              "      <td>0.000000</td>\n",
              "      <td>0.000000</td>\n",
              "      <td>0.000000</td>\n",
              "      <td>...</td>\n",
              "      <td>0.000000</td>\n",
              "      <td>0.000000</td>\n",
              "      <td>0.000000</td>\n",
              "      <td>0.000000</td>\n",
              "      <td>0.195189</td>\n",
              "    </tr>\n",
              "    <tr>\n",
              "      <th>7</th>\n",
              "      <td>0.000000</td>\n",
              "      <td>0.248669</td>\n",
              "      <td>0.248669</td>\n",
              "      <td>0.000000</td>\n",
              "      <td>0.000000</td>\n",
              "      <td>...</td>\n",
              "      <td>0.000000</td>\n",
              "      <td>0.000000</td>\n",
              "      <td>0.248669</td>\n",
              "      <td>0.000000</td>\n",
              "      <td>0.000000</td>\n",
              "    </tr>\n",
              "    <tr>\n",
              "      <th>8</th>\n",
              "      <td>0.000000</td>\n",
              "      <td>0.000000</td>\n",
              "      <td>0.000000</td>\n",
              "      <td>0.000000</td>\n",
              "      <td>0.000000</td>\n",
              "      <td>...</td>\n",
              "      <td>0.000000</td>\n",
              "      <td>0.000000</td>\n",
              "      <td>0.000000</td>\n",
              "      <td>0.000000</td>\n",
              "      <td>0.000000</td>\n",
              "    </tr>\n",
              "    <tr>\n",
              "      <th>9</th>\n",
              "      <td>0.000000</td>\n",
              "      <td>0.000000</td>\n",
              "      <td>0.000000</td>\n",
              "      <td>0.000000</td>\n",
              "      <td>0.000000</td>\n",
              "      <td>...</td>\n",
              "      <td>0.000000</td>\n",
              "      <td>0.000000</td>\n",
              "      <td>0.000000</td>\n",
              "      <td>0.000000</td>\n",
              "      <td>0.000000</td>\n",
              "    </tr>\n",
              "    <tr>\n",
              "      <th>10</th>\n",
              "      <td>0.000000</td>\n",
              "      <td>0.000000</td>\n",
              "      <td>0.000000</td>\n",
              "      <td>0.000000</td>\n",
              "      <td>0.000000</td>\n",
              "      <td>...</td>\n",
              "      <td>0.000000</td>\n",
              "      <td>0.000000</td>\n",
              "      <td>0.000000</td>\n",
              "      <td>0.000000</td>\n",
              "      <td>0.000000</td>\n",
              "    </tr>\n",
              "    <tr>\n",
              "      <th>11</th>\n",
              "      <td>0.000000</td>\n",
              "      <td>0.000000</td>\n",
              "      <td>0.000000</td>\n",
              "      <td>0.000000</td>\n",
              "      <td>0.000000</td>\n",
              "      <td>...</td>\n",
              "      <td>0.000000</td>\n",
              "      <td>0.000000</td>\n",
              "      <td>0.000000</td>\n",
              "      <td>0.000000</td>\n",
              "      <td>0.000000</td>\n",
              "    </tr>\n",
              "    <tr>\n",
              "      <th>12</th>\n",
              "      <td>0.000000</td>\n",
              "      <td>0.000000</td>\n",
              "      <td>0.000000</td>\n",
              "      <td>0.000000</td>\n",
              "      <td>0.000000</td>\n",
              "      <td>...</td>\n",
              "      <td>0.000000</td>\n",
              "      <td>0.000000</td>\n",
              "      <td>0.000000</td>\n",
              "      <td>0.000000</td>\n",
              "      <td>0.000000</td>\n",
              "    </tr>\n",
              "  </tbody>\n",
              "</table>\n",
              "<p>13 rows × 150 columns</p>\n",
              "</div>\n",
              "      <button class=\"colab-df-convert\" onclick=\"convertToInteractive('df-30deb6d4-2c6b-45e6-a34a-902f2d35ada7')\"\n",
              "              title=\"Convert this dataframe to an interactive table.\"\n",
              "              style=\"display:none;\">\n",
              "        \n",
              "  <svg xmlns=\"http://www.w3.org/2000/svg\" height=\"24px\"viewBox=\"0 0 24 24\"\n",
              "       width=\"24px\">\n",
              "    <path d=\"M0 0h24v24H0V0z\" fill=\"none\"/>\n",
              "    <path d=\"M18.56 5.44l.94 2.06.94-2.06 2.06-.94-2.06-.94-.94-2.06-.94 2.06-2.06.94zm-11 1L8.5 8.5l.94-2.06 2.06-.94-2.06-.94L8.5 2.5l-.94 2.06-2.06.94zm10 10l.94 2.06.94-2.06 2.06-.94-2.06-.94-.94-2.06-.94 2.06-2.06.94z\"/><path d=\"M17.41 7.96l-1.37-1.37c-.4-.4-.92-.59-1.43-.59-.52 0-1.04.2-1.43.59L10.3 9.45l-7.72 7.72c-.78.78-.78 2.05 0 2.83L4 21.41c.39.39.9.59 1.41.59.51 0 1.02-.2 1.41-.59l7.78-7.78 2.81-2.81c.8-.78.8-2.07 0-2.86zM5.41 20L4 18.59l7.72-7.72 1.47 1.35L5.41 20z\"/>\n",
              "  </svg>\n",
              "      </button>\n",
              "      \n",
              "  <style>\n",
              "    .colab-df-container {\n",
              "      display:flex;\n",
              "      flex-wrap:wrap;\n",
              "      gap: 12px;\n",
              "    }\n",
              "\n",
              "    .colab-df-convert {\n",
              "      background-color: #E8F0FE;\n",
              "      border: none;\n",
              "      border-radius: 50%;\n",
              "      cursor: pointer;\n",
              "      display: none;\n",
              "      fill: #1967D2;\n",
              "      height: 32px;\n",
              "      padding: 0 0 0 0;\n",
              "      width: 32px;\n",
              "    }\n",
              "\n",
              "    .colab-df-convert:hover {\n",
              "      background-color: #E2EBFA;\n",
              "      box-shadow: 0px 1px 2px rgba(60, 64, 67, 0.3), 0px 1px 3px 1px rgba(60, 64, 67, 0.15);\n",
              "      fill: #174EA6;\n",
              "    }\n",
              "\n",
              "    [theme=dark] .colab-df-convert {\n",
              "      background-color: #3B4455;\n",
              "      fill: #D2E3FC;\n",
              "    }\n",
              "\n",
              "    [theme=dark] .colab-df-convert:hover {\n",
              "      background-color: #434B5C;\n",
              "      box-shadow: 0px 1px 3px 1px rgba(0, 0, 0, 0.15);\n",
              "      filter: drop-shadow(0px 1px 2px rgba(0, 0, 0, 0.3));\n",
              "      fill: #FFFFFF;\n",
              "    }\n",
              "  </style>\n",
              "\n",
              "      <script>\n",
              "        const buttonEl =\n",
              "          document.querySelector('#df-30deb6d4-2c6b-45e6-a34a-902f2d35ada7 button.colab-df-convert');\n",
              "        buttonEl.style.display =\n",
              "          google.colab.kernel.accessAllowed ? 'block' : 'none';\n",
              "\n",
              "        async function convertToInteractive(key) {\n",
              "          const element = document.querySelector('#df-30deb6d4-2c6b-45e6-a34a-902f2d35ada7');\n",
              "          const dataTable =\n",
              "            await google.colab.kernel.invokeFunction('convertToInteractive',\n",
              "                                                     [key], {});\n",
              "          if (!dataTable) return;\n",
              "\n",
              "          const docLinkHtml = 'Like what you see? Visit the ' +\n",
              "            '<a target=\"_blank\" href=https://colab.research.google.com/notebooks/data_table.ipynb>data table notebook</a>'\n",
              "            + ' to learn more about interactive tables.';\n",
              "          element.innerHTML = '';\n",
              "          dataTable['output_type'] = 'display_data';\n",
              "          await google.colab.output.renderOutput(dataTable, element);\n",
              "          const docLink = document.createElement('div');\n",
              "          docLink.innerHTML = docLinkHtml;\n",
              "          element.appendChild(docLink);\n",
              "        }\n",
              "      </script>\n",
              "    </div>\n",
              "  </div>\n",
              "  "
            ]
          },
          "metadata": {}
        }
      ]
    },
    {
      "cell_type": "code",
      "source": [
        "print(scores)\n",
        "\n",
        "import matplotlib.pyplot as plt\n",
        "\n",
        "plt.bar(range(len(scores)), scores)\n",
        "plt.show()"
      ],
      "metadata": {
        "colab": {
          "base_uri": "https://localhost:8080/",
          "height": 451
        },
        "id": "is7FHj_8BRLK",
        "outputId": "b4bfc81d-9d6b-4612-8979-901fa964045f"
      },
      "execution_count": null,
      "outputs": [
        {
          "output_type": "stream",
          "name": "stdout",
          "text": [
            "[3.82 2.44 3.26 2.57 2.74 2.48 3.44 2.19 2.49 3.22 2.39 3.82 3.31]\n"
          ]
        },
        {
          "output_type": "display_data",
          "data": {
            "text/plain": [
              "<Figure size 640x480 with 1 Axes>"
            ],
            "image/png": "[encoded data removed]"
          },
          "metadata": {}
        }
      ]
    },
    {
      "cell_type": "code",
      "source": [
        "import pandas as pd\n",
        "\n",
        "# Supongamos que \"matrix\" es la matriz numérica generada en el código anterior\n",
        "df = pd.DataFrame(matrix.toarray(), columns=vectorizer.vocabulary_.keys())\n",
        "\n",
        "# Mostrar la tabla\n",
        "display(df)\n"
      ],
      "metadata": {
        "colab": {
          "base_uri": "https://localhost:8080/",
          "height": 486
        },
        "id": "L6nN-zzFsxls",
        "outputId": "1dcdb620-0048-40d6-d7c8-5aeb1489a637"
      },
      "execution_count": null,
      "outputs": [
        {
          "output_type": "display_data",
          "data": {
            "text/plain": [
              "          el  morphing        de  suplantación  identidad  ...  coordinada  \\\n",
              "0   0.000000  0.000000  0.000000      0.000000   0.000000  ...    0.000000   \n",
              "1   0.000000  0.000000  0.000000      0.256464   0.000000  ...    0.000000   \n",
              "2   0.000000  0.000000  0.000000      0.000000   0.000000  ...    0.000000   \n",
              "3   0.000000  0.000000  0.000000      0.000000   0.277355  ...    0.000000   \n",
              "4   0.000000  0.000000  0.000000      0.000000   0.000000  ...    0.238337   \n",
              "5   0.267084  0.000000  0.000000      0.000000   0.000000  ...    0.000000   \n",
              "6   0.000000  0.000000  0.000000      0.000000   0.000000  ...    0.000000   \n",
              "7   0.000000  0.248669  0.248669      0.000000   0.000000  ...    0.000000   \n",
              "8   0.000000  0.000000  0.000000      0.000000   0.000000  ...    0.000000   \n",
              "9   0.000000  0.000000  0.000000      0.000000   0.000000  ...    0.000000   \n",
              "10  0.000000  0.000000  0.000000      0.000000   0.000000  ...    0.000000   \n",
              "11  0.000000  0.000000  0.000000      0.000000   0.000000  ...    0.000000   \n",
              "12  0.000000  0.000000  0.000000      0.000000   0.000000  ...    0.000000   \n",
              "\n",
              "      eficaz     parte  autoridades  sociedad  \n",
              "0   0.000000  0.000000     0.000000  0.000000  \n",
              "1   0.000000  0.000000     0.256464  0.000000  \n",
              "2   0.209235  0.000000     0.000000  0.000000  \n",
              "3   0.000000  0.000000     0.000000  0.000000  \n",
              "4   0.000000  0.000000     0.000000  0.205533  \n",
              "5   0.230323  0.000000     0.000000  0.000000  \n",
              "6   0.000000  0.000000     0.000000  0.195189  \n",
              "7   0.000000  0.248669     0.000000  0.000000  \n",
              "8   0.000000  0.000000     0.000000  0.000000  \n",
              "9   0.000000  0.000000     0.000000  0.000000  \n",
              "10  0.000000  0.000000     0.000000  0.000000  \n",
              "11  0.000000  0.000000     0.000000  0.000000  \n",
              "12  0.000000  0.000000     0.000000  0.000000  \n",
              "\n",
              "[13 rows x 150 columns]"
            ],
            "text/html": [
              "\n",
              "  <div id=\"df-5f1fd2ff-1224-4483-a4f7-66f5c1068b2c\">\n",
              "    <div class=\"colab-df-container\">\n",
              "      <div>\n",
              "<style scoped>\n",
              "    .dataframe tbody tr th:only-of-type {\n",
              "        vertical-align: middle;\n",
              "    }\n",
              "\n",
              "    .dataframe tbody tr th {\n",
              "        vertical-align: top;\n",
              "    }\n",
              "\n",
              "    .dataframe thead th {\n",
              "        text-align: right;\n",
              "    }\n",
              "</style>\n",
              "<table border=\"1\" class=\"dataframe\">\n",
              "  <thead>\n",
              "    <tr style=\"text-align: right;\">\n",
              "      <th></th>\n",
              "      <th>el</th>\n",
              "      <th>morphing</th>\n",
              "      <th>de</th>\n",
              "      <th>suplantación</th>\n",
              "      <th>identidad</th>\n",
              "      <th>...</th>\n",
              "      <th>coordinada</th>\n",
              "      <th>eficaz</th>\n",
              "      <th>parte</th>\n",
              "      <th>autoridades</th>\n",
              "      <th>sociedad</th>\n",
              "    </tr>\n",
              "  </thead>\n",
              "  <tbody>\n",
              "    <tr>\n",
              "      <th>0</th>\n",
              "      <td>0.000000</td>\n",
              "      <td>0.000000</td>\n",
              "      <td>0.000000</td>\n",
              "      <td>0.000000</td>\n",
              "      <td>0.000000</td>\n",
              "      <td>...</td>\n",
              "      <td>0.000000</td>\n",
              "      <td>0.000000</td>\n",
              "      <td>0.000000</td>\n",
              "      <td>0.000000</td>\n",
              "      <td>0.000000</td>\n",
              "    </tr>\n",
              "    <tr>\n",
              "      <th>1</th>\n",
              "      <td>0.000000</td>\n",
              "      <td>0.000000</td>\n",
              "      <td>0.000000</td>\n",
              "      <td>0.256464</td>\n",
              "      <td>0.000000</td>\n",
              "      <td>...</td>\n",
              "      <td>0.000000</td>\n",
              "      <td>0.000000</td>\n",
              "      <td>0.000000</td>\n",
              "      <td>0.256464</td>\n",
              "      <td>0.000000</td>\n",
              "    </tr>\n",
              "    <tr>\n",
              "      <th>2</th>\n",
              "      <td>0.000000</td>\n",
              "      <td>0.000000</td>\n",
              "      <td>0.000000</td>\n",
              "      <td>0.000000</td>\n",
              "      <td>0.000000</td>\n",
              "      <td>...</td>\n",
              "      <td>0.000000</td>\n",
              "      <td>0.209235</td>\n",
              "      <td>0.000000</td>\n",
              "      <td>0.000000</td>\n",
              "      <td>0.000000</td>\n",
              "    </tr>\n",
              "    <tr>\n",
              "      <th>3</th>\n",
              "      <td>0.000000</td>\n",
              "      <td>0.000000</td>\n",
              "      <td>0.000000</td>\n",
              "      <td>0.000000</td>\n",
              "      <td>0.277355</td>\n",
              "      <td>...</td>\n",
              "      <td>0.000000</td>\n",
              "      <td>0.000000</td>\n",
              "      <td>0.000000</td>\n",
              "      <td>0.000000</td>\n",
              "      <td>0.000000</td>\n",
              "    </tr>\n",
              "    <tr>\n",
              "      <th>4</th>\n",
              "      <td>0.000000</td>\n",
              "      <td>0.000000</td>\n",
              "      <td>0.000000</td>\n",
              "      <td>0.000000</td>\n",
              "      <td>0.000000</td>\n",
              "      <td>...</td>\n",
              "      <td>0.238337</td>\n",
              "      <td>0.000000</td>\n",
              "      <td>0.000000</td>\n",
              "      <td>0.000000</td>\n",
              "      <td>0.205533</td>\n",
              "    </tr>\n",
              "    <tr>\n",
              "      <th>5</th>\n",
              "      <td>0.267084</td>\n",
              "      <td>0.000000</td>\n",
              "      <td>0.000000</td>\n",
              "      <td>0.000000</td>\n",
              "      <td>0.000000</td>\n",
              "      <td>...</td>\n",
              "      <td>0.000000</td>\n",
              "      <td>0.230323</td>\n",
              "      <td>0.000000</td>\n",
              "      <td>0.000000</td>\n",
              "      <td>0.000000</td>\n",
              "    </tr>\n",
              "    <tr>\n",
              "      <th>6</th>\n",
              "      <td>0.000000</td>\n",
              "      <td>0.000000</td>\n",
              "      <td>0.000000</td>\n",
              "      <td>0.000000</td>\n",
              "      <td>0.000000</td>\n",
              "      <td>...</td>\n",
              "      <td>0.000000</td>\n",
              "      <td>0.000000</td>\n",
              "      <td>0.000000</td>\n",
              "      <td>0.000000</td>\n",
              "      <td>0.195189</td>\n",
              "    </tr>\n",
              "    <tr>\n",
              "      <th>7</th>\n",
              "      <td>0.000000</td>\n",
              "      <td>0.248669</td>\n",
              "      <td>0.248669</td>\n",
              "      <td>0.000000</td>\n",
              "      <td>0.000000</td>\n",
              "      <td>...</td>\n",
              "      <td>0.000000</td>\n",
              "      <td>0.000000</td>\n",
              "      <td>0.248669</td>\n",
              "      <td>0.000000</td>\n",
              "      <td>0.000000</td>\n",
              "    </tr>\n",
              "    <tr>\n",
              "      <th>8</th>\n",
              "      <td>0.000000</td>\n",
              "      <td>0.000000</td>\n",
              "      <td>0.000000</td>\n",
              "      <td>0.000000</td>\n",
              "      <td>0.000000</td>\n",
              "      <td>...</td>\n",
              "      <td>0.000000</td>\n",
              "      <td>0.000000</td>\n",
              "      <td>0.000000</td>\n",
              "      <td>0.000000</td>\n",
              "      <td>0.000000</td>\n",
              "    </tr>\n",
              "    <tr>\n",
              "      <th>9</th>\n",
              "      <td>0.000000</td>\n",
              "      <td>0.000000</td>\n",
              "      <td>0.000000</td>\n",
              "      <td>0.000000</td>\n",
              "      <td>0.000000</td>\n",
              "      <td>...</td>\n",
              "      <td>0.000000</td>\n",
              "      <td>0.000000</td>\n",
              "      <td>0.000000</td>\n",
              "      <td>0.000000</td>\n",
              "      <td>0.000000</td>\n",
              "    </tr>\n",
              "    <tr>\n",
              "      <th>10</th>\n",
              "      <td>0.000000</td>\n",
              "      <td>0.000000</td>\n",
              "      <td>0.000000</td>\n",
              "      <td>0.000000</td>\n",
              "      <td>0.000000</td>\n",
              "      <td>...</td>\n",
              "      <td>0.000000</td>\n",
              "      <td>0.000000</td>\n",
              "      <td>0.000000</td>\n",
              "      <td>0.000000</td>\n",
              "      <td>0.000000</td>\n",
              "    </tr>\n",
              "    <tr>\n",
              "      <th>11</th>\n",
              "      <td>0.000000</td>\n",
              "      <td>0.000000</td>\n",
              "      <td>0.000000</td>\n",
              "      <td>0.000000</td>\n",
              "      <td>0.000000</td>\n",
              "      <td>...</td>\n",
              "      <td>0.000000</td>\n",
              "      <td>0.000000</td>\n",
              "      <td>0.000000</td>\n",
              "      <td>0.000000</td>\n",
              "      <td>0.000000</td>\n",
              "    </tr>\n",
              "    <tr>\n",
              "      <th>12</th>\n",
              "      <td>0.000000</td>\n",
              "      <td>0.000000</td>\n",
              "      <td>0.000000</td>\n",
              "      <td>0.000000</td>\n",
              "      <td>0.000000</td>\n",
              "      <td>...</td>\n",
              "      <td>0.000000</td>\n",
              "      <td>0.000000</td>\n",
              "      <td>0.000000</td>\n",
              "      <td>0.000000</td>\n",
              "      <td>0.000000</td>\n",
              "    </tr>\n",
              "  </tbody>\n",
              "</table>\n",
              "<p>13 rows × 150 columns</p>\n",
              "</div>\n",
              "      <button class=\"colab-df-convert\" onclick=\"convertToInteractive('df-5f1fd2ff-1224-4483-a4f7-66f5c1068b2c')\"\n",
              "              title=\"Convert this dataframe to an interactive table.\"\n",
              "              style=\"display:none;\">\n",
              "        \n",
              "  <svg xmlns=\"http://www.w3.org/2000/svg\" height=\"24px\"viewBox=\"0 0 24 24\"\n",
              "       width=\"24px\">\n",
              "    <path d=\"M0 0h24v24H0V0z\" fill=\"none\"/>\n",
              "    <path d=\"M18.56 5.44l.94 2.06.94-2.06 2.06-.94-2.06-.94-.94-2.06-.94 2.06-2.06.94zm-11 1L8.5 8.5l.94-2.06 2.06-.94-2.06-.94L8.5 2.5l-.94 2.06-2.06.94zm10 10l.94 2.06.94-2.06 2.06-.94-2.06-.94-.94-2.06-.94 2.06-2.06.94z\"/><path d=\"M17.41 7.96l-1.37-1.37c-.4-.4-.92-.59-1.43-.59-.52 0-1.04.2-1.43.59L10.3 9.45l-7.72 7.72c-.78.78-.78 2.05 0 2.83L4 21.41c.39.39.9.59 1.41.59.51 0 1.02-.2 1.41-.59l7.78-7.78 2.81-2.81c.8-.78.8-2.07 0-2.86zM5.41 20L4 18.59l7.72-7.72 1.47 1.35L5.41 20z\"/>\n",
              "  </svg>\n",
              "      </button>\n",
              "      \n",
              "  <style>\n",
              "    .colab-df-container {\n",
              "      display:flex;\n",
              "      flex-wrap:wrap;\n",
              "      gap: 12px;\n",
              "    }\n",
              "\n",
              "    .colab-df-convert {\n",
              "      background-color: #E8F0FE;\n",
              "      border: none;\n",
              "      border-radius: 50%;\n",
              "      cursor: pointer;\n",
              "      display: none;\n",
              "      fill: #1967D2;\n",
              "      height: 32px;\n",
              "      padding: 0 0 0 0;\n",
              "      width: 32px;\n",
              "    }\n",
              "\n",
              "    .colab-df-convert:hover {\n",
              "      background-color: #E2EBFA;\n",
              "      box-shadow: 0px 1px 2px rgba(60, 64, 67, 0.3), 0px 1px 3px 1px rgba(60, 64, 67, 0.15);\n",
              "      fill: #174EA6;\n",
              "    }\n",
              "\n",
              "    [theme=dark] .colab-df-convert {\n",
              "      background-color: #3B4455;\n",
              "      fill: #D2E3FC;\n",
              "    }\n",
              "\n",
              "    [theme=dark] .colab-df-convert:hover {\n",
              "      background-color: #434B5C;\n",
              "      box-shadow: 0px 1px 3px 1px rgba(0, 0, 0, 0.15);\n",
              "      filter: drop-shadow(0px 1px 2px rgba(0, 0, 0, 0.3));\n",
              "      fill: #FFFFFF;\n",
              "    }\n",
              "  </style>\n",
              "\n",
              "      <script>\n",
              "        const buttonEl =\n",
              "          document.querySelector('#df-5f1fd2ff-1224-4483-a4f7-66f5c1068b2c button.colab-df-convert');\n",
              "        buttonEl.style.display =\n",
              "          google.colab.kernel.accessAllowed ? 'block' : 'none';\n",
              "\n",
              "        async function convertToInteractive(key) {\n",
              "          const element = document.querySelector('#df-5f1fd2ff-1224-4483-a4f7-66f5c1068b2c');\n",
              "          const dataTable =\n",
              "            await google.colab.kernel.invokeFunction('convertToInteractive',\n",
              "                                                     [key], {});\n",
              "          if (!dataTable) return;\n",
              "\n",
              "          const docLinkHtml = 'Like what you see? Visit the ' +\n",
              "            '<a target=\"_blank\" href=https://colab.research.google.com/notebooks/data_table.ipynb>data table notebook</a>'\n",
              "            + ' to learn more about interactive tables.';\n",
              "          element.innerHTML = '';\n",
              "          dataTable['output_type'] = 'display_data';\n",
              "          await google.colab.output.renderOutput(dataTable, element);\n",
              "          const docLink = document.createElement('div');\n",
              "          docLink.innerHTML = docLinkHtml;\n",
              "          element.appendChild(docLink);\n",
              "        }\n",
              "      </script>\n",
              "    </div>\n",
              "  </div>\n",
              "  "
            ]
          },
          "metadata": {}
        }
      ]
    },
    {
      "cell_type": "code",
      "source": [
        "import numpy as np\n",
        "\n",
        "# Obtener los índices que ordenan el array de menor a mayor y luego invertir el orden\n",
        "indices_descendentes = np.argsort(-scores)\n",
        "\n",
        "# Ordenar el array original utilizando los índices ordenados de mayor a menor\n",
        "scores_ordenados = scores[indices_descendentes]\n",
        "\n",
        "# Mostrar el resultado\n",
        "print(scores_ordenados)\n",
        "\n",
        "#import matplotlib.pyplot as plt\n",
        "\n",
        "#plt.bar(range(len(scores_ordenados)), scores_ordenados)\n",
        "#plt.show()"
      ],
      "metadata": {
        "colab": {
          "base_uri": "https://localhost:8080/"
        },
        "id": "nGvZtErG4fh_",
        "outputId": "32ed4199-6fb1-491c-f405-b7031ad9a245"
      },
      "execution_count": null,
      "outputs": [
        {
          "output_type": "stream",
          "name": "stdout",
          "text": [
            "[3.82 3.82 3.44 3.31 3.26 3.22 2.74 2.57 2.49 2.48 2.44 2.39 2.19]\n"
          ]
        }
      ]
    },
    {
      "cell_type": "code",
      "source": [
        "import numpy as np \n",
        "\n",
        "# Pedir el porcentaje deseado para el resumen\n",
        "porcentaje_resumen = input(\"Introducir un porcentaje deseado para el resumen: \")\n",
        "\n",
        "# Calcular el número de oraciones para el resumen\n",
        "porcentaje = int(porcentaje_resumen)\n",
        "num_sentences = round(len(sentences) * porcentaje / 100) #Seleccionar el % de las oraciones más importantes\n",
        "top_sentences = np.argsort(scores)[-num_sentences:] #Vector que contiene los índices de las oraciones más relevantes del texto.\n",
        "resumen = [sentences[i] for i in sorted(top_sentences)] #Lista de las oraciones más relevantes del texto. Captura la esencia del texto original en un número reducido de oraciones.\n",
        "\n",
        "texto = ' '.join(resumen) #Unir las oraciones del resumen del texto en una sola cadena de texto.\n",
        "\n",
        "# Obtener el título y el texto a resumir\n",
        "print(titulo + \":\\n\")\n",
        "\n",
        "#Procesar el texto y obtener las oraciones\n",
        "resumen_limpio = re.sub(r'\\[\\d+\\]', '', texto)\n",
        "print(resumen_limpio)\n",
        "\n",
        "# Procesar el texto con spaCy\n",
        "nlp = spacy.load(\"es_core_news_lg\")\n",
        "doc = nlp(resumen_limpio)\n",
        "\n",
        "num_words = sum(len(sentence.split()) for sentence in resumen)\n",
        "print(\"\\nNúmero de palabras en el resumen:\", num_words)\n",
        "\n",
        "# Número de oraciones en el resumen\n",
        "num_oraciones = len(list(doc.sents))\n",
        "print(\"El resumen contiene\", num_oraciones, \"oraciones.\")\n",
        "\n",
        "from IPython.core.display import display, HTML\n",
        "display(HTML(\"<style>pre { white-space: pre-wrap; }</style>\"))"
      ],
      "metadata": {
        "id": "a_R-km0HZMnD",
        "colab": {
          "base_uri": "https://localhost:8080/",
          "height": 208
        },
        "outputId": "6d3763cc-5fa4-4dfb-e8c3-75a784b10b11"
      },
      "execution_count": null,
      "outputs": [
        {
          "output_type": "stream",
          "name": "stdout",
          "text": [
            "Introducir un porcentaje deseado para el resumen: 75\n",
            "Morphing de suplantación de identidad: una amenaza para la seguridad.:\n",
            "\n",
            " El morphing de suplantación de identidad es una amenaza para la seguridad nacional e internacional, ya que puede facilitar el tráfico de personas, el terrorismo, el fraude o el espionaje. Para prevenir y detectar el morphing de suplantación de identidad, se necesitan medidas tanto técnicas como legales. Por un lado, se debe mejorar la calidad y la seguridad de los documentos de identidad, incorporando elementos que dificulten la manipulación o que permitan verificar la autenticidad de las imágenes. El morphing de suplantación de identidad es una técnica que aprovecha el avance de la inteligencia artificial para crear imágenes falsas que engañan a los sistemas biométricos faciales. Se trata de una amenaza que puede poner en peligro la seguridad y la identidad de las personas, y que requiere una respuesta coordinada y eficaz por parte de las autoridades y la sociedad.\n",
            "\n",
            "Número de palabras en el resumen: 267\n",
            "El resumen contiene 10 oraciones.\n"
          ]
        },
        {
          "output_type": "display_data",
          "data": {
            "text/plain": [
              "<IPython.core.display.HTML object>"
            ],
            "text/html": [
              "<style>pre { white-space: pre-wrap; }</style>"
            ]
          },
          "metadata": {}
        }
      ]
    },
    {
      "cell_type": "markdown",
      "source": [
        "## ***EVALUACIÓN DEL RESUMEN GENERADO UTILIZANDO LA MÉTRICA ROUGE-1:***"
      ],
      "metadata": {
        "id": "8JL0MUj7a9WS"
      }
    },
    {
      "cell_type": "markdown",
      "source": [
        "Considerar a R como el texto original y el resumen como C:\n",
        "\n",
        "- R: The cat is on the mat.\n",
        "- C: The cat and the dog.\n",
        "\n",
        "ROUGE-1 ***precision*** se puede calcular como la relación entre el número de unigramas en C que aparecen también en R (es decir, las palabras \"the\", \"cat\" y \"the\"), sobre el número de unigramas en C.\n",
        "\n",
        "- ROUGE-1 precision = 3/5 = 0.6\n",
        "\n",
        "ROUGE-1 ***recall*** se puede calcular como la razón del número de unigramas en R que aparecen también en C (es decir, las palabras \"the\", \"cat\" y \"the\"), sobre el número de unigramas en R.\n",
        "\n",
        "-ROUGE-1 recall = 3/6 = 0.5\n",
        "\n",
        "Entonces, la puntuación F1 de ROUGE-1 se puede obtener directamente a partir de la precisión y recall de ROUGE-1 utilizando la fórmula de puntuación F1 estándar.\n",
        "\n",
        "- ROUGE-1 F1-score = 2 * (precision * recall) / (precision + recall) = 2 * (0.6 * 0.5) / (0.6 + 0.5) = 2 * (0.3)/(1.1) = 2 * 0.2727 = 0.545454"
      ],
      "metadata": {
        "id": "87MhRXLQbVnO"
      }
    },
    {
      "cell_type": "code",
      "source": [
        "!pip install rouge"
      ],
      "metadata": {
        "colab": {
          "base_uri": "https://localhost:8080/"
        },
        "id": "tNmobzoLljwa",
        "outputId": "9d663861-4319-432e-8c3e-5224f943a315"
      },
      "execution_count": null,
      "outputs": [
        {
          "output_type": "stream",
          "name": "stdout",
          "text": [
            "Looking in indexes: https://pypi.org/simple, https://us-python.pkg.dev/colab-wheels/public/simple/\n",
            "Collecting rouge\n",
            "  Downloading rouge-1.0.1-py3-none-any.whl (13 kB)\n",
            "Requirement already satisfied: six in /usr/local/lib/python3.9/dist-packages (from rouge) (1.15.0)\n",
            "Installing collected packages: rouge\n",
            "Successfully installed rouge-1.0.1\n"
          ]
        }
      ]
    },
    {
      "cell_type": "code",
      "source": [
        "from rouge import Rouge\n",
        "\n",
        "texto = texto_limpio\n",
        "resumen = resumen_limpio\n",
        "\n",
        "rouge = Rouge()\n",
        "scores = rouge.get_scores(texto, resumen)\n",
        "\n",
        "rouge1_score = scores[0]['rouge-1']['f']\n",
        "rouge1_precision = scores[0]['rouge-1']['p']\n",
        "rouge1_recall = scores[0]['rouge-1']['r']\n",
        "\n",
        "print(\"ROUGE-1 Precision:\", rouge1_precision)\n",
        "print(\"ROUGE-1 Recall:\", rouge1_recall)\n",
        "print(\"ROUGE-1 F-Score:\", rouge1_score)\n"
      ],
      "metadata": {
        "colab": {
          "base_uri": "https://localhost:8080/"
        },
        "id": "ErECRkVqloMC",
        "outputId": "24653b21-203c-4780-81a5-bee68263cb14"
      },
      "execution_count": null,
      "outputs": [
        {
          "output_type": "stream",
          "name": "stdout",
          "text": [
            "ROUGE-1 Precision: 0.29215017064846416\n",
            "ROUGE-1 Recall: 1.0\n",
            "ROUGE-1 F-Score: 0.45219228387500426\n"
          ]
        }
      ]
    }
  ],
  "metadata": {
    "colab": {
      "provenance": [],
      "authorship_tag": "ABX9TyNlMIh3BCEzEH3LJckmrDa7",
      "include_colab_link": true
    },
    "kernelspec": {
      "display_name": "Python 3",
      "name": "python3"
    },
    "language_info": {
      "name": "python"
    },
    "gpuClass": "standard"
  },
  "nbformat": 4,
  "nbformat_minor": 0
}